{
  "cells": [
    {
      "cell_type": "markdown",
      "metadata": {},
      "source": [
        "<a target=\"_blank\" href=\"https://colab.research.google.com/github/veb-101/keras-vision/blob/main/examples/mobile_vit_v2.ipynb\">\n",
        "  <img src=\"https://colab.research.google.com/assets/colab-badge.svg\" alt=\"Open In Colab\"/>\n",
        "</a>"
      ]
    },
    {
      "cell_type": "code",
      "execution_count": 1,
      "metadata": {
        "colab": {
          "base_uri": "https://localhost:8080/"
        },
        "id": "GdQngh6lZ1Ec",
        "outputId": "68c471b1-503f-4b8d-b26f-f70efec06a7f"
      },
      "outputs": [
        {
          "name": "stdout",
          "output_type": "stream",
          "text": [
            "Collecting keras-vision\n",
            "  Downloading keras_vision-0.4.5-py3-none-any.whl (11 kB)\n",
            "Collecting keras>=3.3.3 (from keras-vision)\n",
            "  Downloading keras-3.3.3-py3-none-any.whl (1.1 MB)\n",
            "\u001b[2K     \u001b[90m━━━━━━━━━━━━━━━━━━━━━━━━━━━━━━━━━━━━━━━━\u001b[0m \u001b[32m1.1/1.1 MB\u001b[0m \u001b[31m5.4 MB/s\u001b[0m eta \u001b[36m0:00:00\u001b[0m\n",
            "\u001b[?25hRequirement already satisfied: numpy in /usr/local/lib/python3.10/dist-packages (from keras-vision) (1.25.2)\n",
            "Requirement already satisfied: absl-py in /usr/local/lib/python3.10/dist-packages (from keras>=3.3.3->keras-vision) (1.4.0)\n",
            "Requirement already satisfied: rich in /usr/local/lib/python3.10/dist-packages (from keras>=3.3.3->keras-vision) (13.7.1)\n",
            "Collecting namex (from keras>=3.3.3->keras-vision)\n",
            "  Downloading namex-0.0.8-py3-none-any.whl (5.8 kB)\n",
            "Requirement already satisfied: h5py in /usr/local/lib/python3.10/dist-packages (from keras>=3.3.3->keras-vision) (3.9.0)\n",
            "Collecting optree (from keras>=3.3.3->keras-vision)\n",
            "  Downloading optree-0.11.0-cp310-cp310-manylinux_2_17_x86_64.manylinux2014_x86_64.whl (311 kB)\n",
            "\u001b[2K     \u001b[90m━━━━━━━━━━━━━━━━━━━━━━━━━━━━━━━━━━━━━━━━\u001b[0m \u001b[32m311.2/311.2 kB\u001b[0m \u001b[31m18.4 MB/s\u001b[0m eta \u001b[36m0:00:00\u001b[0m\n",
            "\u001b[?25hRequirement already satisfied: ml-dtypes in /usr/local/lib/python3.10/dist-packages (from keras>=3.3.3->keras-vision) (0.2.0)\n",
            "Requirement already satisfied: typing-extensions>=4.0.0 in /usr/local/lib/python3.10/dist-packages (from optree->keras>=3.3.3->keras-vision) (4.11.0)\n",
            "Requirement already satisfied: markdown-it-py>=2.2.0 in /usr/local/lib/python3.10/dist-packages (from rich->keras>=3.3.3->keras-vision) (3.0.0)\n",
            "Requirement already satisfied: pygments<3.0.0,>=2.13.0 in /usr/local/lib/python3.10/dist-packages (from rich->keras>=3.3.3->keras-vision) (2.16.1)\n",
            "Requirement already satisfied: mdurl~=0.1 in /usr/local/lib/python3.10/dist-packages (from markdown-it-py>=2.2.0->rich->keras>=3.3.3->keras-vision) (0.1.2)\n",
            "Installing collected packages: namex, optree, keras, keras-vision\n",
            "  Attempting uninstall: keras\n",
            "    Found existing installation: keras 2.15.0\n",
            "    Uninstalling keras-2.15.0:\n",
            "      Successfully uninstalled keras-2.15.0\n",
            "\u001b[31mERROR: pip's dependency resolver does not currently take into account all the packages that are installed. This behaviour is the source of the following dependency conflicts.\n",
            "tensorflow 2.15.0 requires keras<2.16,>=2.15.0, but you have keras 3.3.3 which is incompatible.\u001b[0m\u001b[31m\n",
            "\u001b[0mSuccessfully installed keras-3.3.3 keras-vision-0.4.5 namex-0.0.8 optree-0.11.0\n"
          ]
        }
      ],
      "source": [
        "%pip install -U keras-vision\n",
        "# %pip install git+https://github.com/veb-101/keras-vision.git"
      ]
    },
    {
      "cell_type": "code",
      "execution_count": 2,
      "metadata": {
        "id": "d8SRyy1ZadUd"
      },
      "outputs": [],
      "source": [
        "import os\n",
        "\n",
        "os.environ[\"KERAS_BACKEND\"] = \"jax\"\n",
        "# os.environ[\"KERAS_BACKEND\"] = \"tensorflow\"\n",
        "# os.environ[\"KERAS_BACKEND\"] = \"torch\"\n",
        "\n",
        "import cv2\n",
        "import numpy as np\n",
        "import matplotlib.pyplot as plt\n",
        "\n",
        "import keras\n",
        "\n",
        "\n",
        "def test_prediction(*, image_path, model=None, image_shape=(224, 224), show=False):\n",
        "    # Load and process the image\n",
        "    img = cv2.imread(image_path, cv2.IMREAD_COLOR)\n",
        "    img = img[:, :, ::-1]\n",
        "\n",
        "    img = cv2.resize(img, image_shape)\n",
        "\n",
        "    if show:\n",
        "        plt.imshow(img)\n",
        "\n",
        "    img = img  / 255. # Normalize pixel values to [0, 1]\n",
        "    img = img.astype(\"float32\")  # Ensure the correct type for TensorFlow\n",
        "    # Add the batch dimension\n",
        "    img = np.expand_dims(img, 0)  # Shape becomes (1, 256, 256, 3)\n",
        "\n",
        "    # Perform prediction\n",
        "    preds = model.predict(img, verbose=0)\n",
        "\n",
        "    # Output prediction\n",
        "    print(f\"Model: {model.name}, Predictions: {preds.argmax()}\")"
      ]
    },
    {
      "cell_type": "code",
      "execution_count": 3,
      "metadata": {
        "id": "JY4aHmmwZ1Ed"
      },
      "outputs": [],
      "source": [
        "from keras_vision.MobileViT_v2 import build_MobileViT_v2"
      ]
    },
    {
      "cell_type": "code",
      "execution_count": 4,
      "metadata": {
        "colab": {
          "base_uri": "https://localhost:8080/",
          "height": 750
        },
        "id": "pulrUFbmZ1Ed",
        "outputId": "c653794e-8e2c-4f33-9b41-16abeb168a0c"
      },
      "outputs": [
        {
          "name": "stdout",
          "output_type": "stream",
          "text": [
            "Downloading data from https://github.com/veb-101/keras-vision/releases/download/v0.5/keras_mobilevitv2-im1k-256-2.0.weights.h5\n",
            "\u001b[1m74597796/74597796\u001b[0m \u001b[32m━━━━━━━━━━━━━━━━━━━━\u001b[0m\u001b[37m\u001b[0m \u001b[1m6s\u001b[0m 0us/step\n",
            "Downloading data from https://github.com/veb-101/keras-vision/releases/download/v0.5/keras_mobilevitv2-im1k-256-f-384-2.0.weights.h5\n",
            "\u001b[1m74597796/74597796\u001b[0m \u001b[32m━━━━━━━━━━━━━━━━━━━━\u001b[0m\u001b[37m\u001b[0m \u001b[1m6s\u001b[0m 0us/step\n",
            "Downloading data from https://github.com/veb-101/keras-vision/releases/download/v0.5/keras_mobilevitv2-im21k-256-f-im1k-256-2.0.weights.h5\n",
            "\u001b[1m74597796/74597796\u001b[0m \u001b[32m━━━━━━━━━━━━━━━━━━━━\u001b[0m\u001b[37m\u001b[0m \u001b[1m6s\u001b[0m 0us/step\n",
            "Downloading data from https://github.com/veb-101/keras-vision/releases/download/v0.5/keras_mobilevitv2-im21k-256-f-im1k-256-f-im1k-384-2.0.weights.h5\n",
            "\u001b[1m74597796/74597796\u001b[0m \u001b[32m━━━━━━━━━━━━━━━━━━━━\u001b[0m\u001b[37m\u001b[0m \u001b[1m5s\u001b[0m 0us/step\n"
          ]
        },
        {
          "data": {
            "text/html": [
              "<pre style=\"white-space:pre;overflow-x:auto;line-height:normal;font-family:Menlo,'DejaVu Sans Mono',consolas,'Courier New',monospace\"><span style=\"font-weight: bold\">Model: \"MobileViT-v2-2.0\"</span>\n",
              "</pre>\n"
            ],
            "text/plain": [
              "\u001b[1mModel: \"MobileViT-v2-2.0\"\u001b[0m\n"
            ]
          },
          "metadata": {},
          "output_type": "display_data"
        },
        {
          "data": {
            "text/html": [
              "<pre style=\"white-space:pre;overflow-x:auto;line-height:normal;font-family:Menlo,'DejaVu Sans Mono',consolas,'Courier New',monospace\">┏━━━━━━━━━━━━━━━━━━━━━━━━━━━━━━━━━┳━━━━━━━━━━━━━━━━━━━━━━━━┳━━━━━━━━━━━━━━━┓\n",
              "┃<span style=\"font-weight: bold\"> Layer (type)                    </span>┃<span style=\"font-weight: bold\"> Output Shape           </span>┃<span style=\"font-weight: bold\">       Param # </span>┃\n",
              "┡━━━━━━━━━━━━━━━━━━━━━━━━━━━━━━━━━╇━━━━━━━━━━━━━━━━━━━━━━━━╇━━━━━━━━━━━━━━━┩\n",
              "│ input_layer_3 (<span style=\"color: #0087ff; text-decoration-color: #0087ff\">InputLayer</span>)      │ (<span style=\"color: #00d7ff; text-decoration-color: #00d7ff\">None</span>, <span style=\"color: #00af00; text-decoration-color: #00af00\">384</span>, <span style=\"color: #00af00; text-decoration-color: #00af00\">384</span>, <span style=\"color: #00af00; text-decoration-color: #00af00\">3</span>)    │             <span style=\"color: #00af00; text-decoration-color: #00af00\">0</span> │\n",
              "├─────────────────────────────────┼────────────────────────┼───────────────┤\n",
              "│ block-1-Conv (<span style=\"color: #0087ff; text-decoration-color: #0087ff\">ConvLayer</span>)        │ (<span style=\"color: #00d7ff; text-decoration-color: #00d7ff\">None</span>, <span style=\"color: #00af00; text-decoration-color: #00af00\">192</span>, <span style=\"color: #00af00; text-decoration-color: #00af00\">192</span>, <span style=\"color: #00af00; text-decoration-color: #00af00\">64</span>)   │         <span style=\"color: #00af00; text-decoration-color: #00af00\">1,984</span> │\n",
              "├─────────────────────────────────┼────────────────────────┼───────────────┤\n",
              "│ block-1-IR2                     │ (<span style=\"color: #00d7ff; text-decoration-color: #00d7ff\">None</span>, <span style=\"color: #00af00; text-decoration-color: #00af00\">192</span>, <span style=\"color: #00af00; text-decoration-color: #00af00\">192</span>, <span style=\"color: #00af00; text-decoration-color: #00af00\">128</span>)  │        <span style=\"color: #00af00; text-decoration-color: #00af00\">27,264</span> │\n",
              "│ (<span style=\"color: #0087ff; text-decoration-color: #0087ff\">InvertedResidualBlock</span>)         │                        │               │\n",
              "├─────────────────────────────────┼────────────────────────┼───────────────┤\n",
              "│ block-2-IR1                     │ (<span style=\"color: #00d7ff; text-decoration-color: #00d7ff\">None</span>, <span style=\"color: #00af00; text-decoration-color: #00af00\">96</span>, <span style=\"color: #00af00; text-decoration-color: #00af00\">96</span>, <span style=\"color: #00af00; text-decoration-color: #00af00\">256</span>)    │       <span style=\"color: #00af00; text-decoration-color: #00af00\">103,680</span> │\n",
              "│ (<span style=\"color: #0087ff; text-decoration-color: #0087ff\">InvertedResidualBlock</span>)         │                        │               │\n",
              "├─────────────────────────────────┼────────────────────────┼───────────────┤\n",
              "│ block-2-IR2                     │ (<span style=\"color: #00d7ff; text-decoration-color: #00d7ff\">None</span>, <span style=\"color: #00af00; text-decoration-color: #00af00\">96</span>, <span style=\"color: #00af00; text-decoration-color: #00af00\">96</span>, <span style=\"color: #00af00; text-decoration-color: #00af00\">256</span>)    │       <span style=\"color: #00af00; text-decoration-color: #00af00\">271,872</span> │\n",
              "│ (<span style=\"color: #0087ff; text-decoration-color: #0087ff\">InvertedResidualBlock</span>)         │                        │               │\n",
              "├─────────────────────────────────┼────────────────────────┼───────────────┤\n",
              "│ block-3-IR1                     │ (<span style=\"color: #00d7ff; text-decoration-color: #00d7ff\">None</span>, <span style=\"color: #00af00; text-decoration-color: #00af00\">48</span>, <span style=\"color: #00af00; text-decoration-color: #00af00\">48</span>, <span style=\"color: #00af00; text-decoration-color: #00af00\">512</span>)    │       <span style=\"color: #00af00; text-decoration-color: #00af00\">403,968</span> │\n",
              "│ (<span style=\"color: #0087ff; text-decoration-color: #0087ff\">InvertedResidualBlock</span>)         │                        │               │\n",
              "├─────────────────────────────────┼────────────────────────┼───────────────┤\n",
              "│ MobileViTBlock-1                │ (<span style=\"color: #00d7ff; text-decoration-color: #00d7ff\">None</span>, <span style=\"color: #00af00; text-decoration-color: #00af00\">48</span>, <span style=\"color: #00af00; text-decoration-color: #00af00\">48</span>, <span style=\"color: #00af00; text-decoration-color: #00af00\">512</span>)    │     <span style=\"color: #00af00; text-decoration-color: #00af00\">1,194,498</span> │\n",
              "│ (<span style=\"color: #0087ff; text-decoration-color: #0087ff\">MobileViT_v2_Block</span>)            │                        │               │\n",
              "├─────────────────────────────────┼────────────────────────┼───────────────┤\n",
              "│ block-4-IR1                     │ (<span style=\"color: #00d7ff; text-decoration-color: #00d7ff\">None</span>, <span style=\"color: #00af00; text-decoration-color: #00af00\">24</span>, <span style=\"color: #00af00; text-decoration-color: #00af00\">24</span>, <span style=\"color: #00af00; text-decoration-color: #00af00\">768</span>)    │     <span style=\"color: #00af00; text-decoration-color: #00af00\">1,331,200</span> │\n",
              "│ (<span style=\"color: #0087ff; text-decoration-color: #0087ff\">InvertedResidualBlock</span>)         │                        │               │\n",
              "├─────────────────────────────────┼────────────────────────┼───────────────┤\n",
              "│ MobileViTBlock-2                │ (<span style=\"color: #00d7ff; text-decoration-color: #00d7ff\">None</span>, <span style=\"color: #00af00; text-decoration-color: #00af00\">24</span>, <span style=\"color: #00af00; text-decoration-color: #00af00\">24</span>, <span style=\"color: #00af00; text-decoration-color: #00af00\">768</span>)    │     <span style=\"color: #00af00; text-decoration-color: #00af00\">4,749,316</span> │\n",
              "│ (<span style=\"color: #0087ff; text-decoration-color: #0087ff\">MobileViT_v2_Block</span>)            │                        │               │\n",
              "├─────────────────────────────────┼────────────────────────┼───────────────┤\n",
              "│ block-5-IR1                     │ (<span style=\"color: #00d7ff; text-decoration-color: #00d7ff\">None</span>, <span style=\"color: #00af00; text-decoration-color: #00af00\">12</span>, <span style=\"color: #00af00; text-decoration-color: #00af00\">12</span>, <span style=\"color: #00af00; text-decoration-color: #00af00\">1024</span>)   │     <span style=\"color: #00af00; text-decoration-color: #00af00\">2,782,720</span> │\n",
              "│ (<span style=\"color: #0087ff; text-decoration-color: #0087ff\">InvertedResidualBlock</span>)         │                        │               │\n",
              "├─────────────────────────────────┼────────────────────────┼───────────────┤\n",
              "│ MobileViTBlock-3                │ (<span style=\"color: #00d7ff; text-decoration-color: #00d7ff\">None</span>, <span style=\"color: #00af00; text-decoration-color: #00af00\">12</span>, <span style=\"color: #00af00; text-decoration-color: #00af00\">12</span>, <span style=\"color: #00af00; text-decoration-color: #00af00\">1024</span>)   │     <span style=\"color: #00af00; text-decoration-color: #00af00\">6,588,931</span> │\n",
              "│ (<span style=\"color: #0087ff; text-decoration-color: #0087ff\">MobileViT_v2_Block</span>)            │                        │               │\n",
              "├─────────────────────────────────┼────────────────────────┼───────────────┤\n",
              "│ global_average_pooling2d_3      │ (<span style=\"color: #00d7ff; text-decoration-color: #00d7ff\">None</span>, <span style=\"color: #00af00; text-decoration-color: #00af00\">1024</span>)           │             <span style=\"color: #00af00; text-decoration-color: #00af00\">0</span> │\n",
              "│ (<span style=\"color: #0087ff; text-decoration-color: #0087ff\">GlobalAveragePooling2D</span>)        │                        │               │\n",
              "├─────────────────────────────────┼────────────────────────┼───────────────┤\n",
              "│ dense_3 (<span style=\"color: #0087ff; text-decoration-color: #0087ff\">Dense</span>)                 │ (<span style=\"color: #00d7ff; text-decoration-color: #00d7ff\">None</span>, <span style=\"color: #00af00; text-decoration-color: #00af00\">1000</span>)           │     <span style=\"color: #00af00; text-decoration-color: #00af00\">1,025,000</span> │\n",
              "└─────────────────────────────────┴────────────────────────┴───────────────┘\n",
              "</pre>\n"
            ],
            "text/plain": [
              "┏━━━━━━━━━━━━━━━━━━━━━━━━━━━━━━━━━┳━━━━━━━━━━━━━━━━━━━━━━━━┳━━━━━━━━━━━━━━━┓\n",
              "┃\u001b[1m \u001b[0m\u001b[1mLayer (type)                   \u001b[0m\u001b[1m \u001b[0m┃\u001b[1m \u001b[0m\u001b[1mOutput Shape          \u001b[0m\u001b[1m \u001b[0m┃\u001b[1m \u001b[0m\u001b[1m      Param #\u001b[0m\u001b[1m \u001b[0m┃\n",
              "┡━━━━━━━━━━━━━━━━━━━━━━━━━━━━━━━━━╇━━━━━━━━━━━━━━━━━━━━━━━━╇━━━━━━━━━━━━━━━┩\n",
              "│ input_layer_3 (\u001b[38;5;33mInputLayer\u001b[0m)      │ (\u001b[38;5;45mNone\u001b[0m, \u001b[38;5;34m384\u001b[0m, \u001b[38;5;34m384\u001b[0m, \u001b[38;5;34m3\u001b[0m)    │             \u001b[38;5;34m0\u001b[0m │\n",
              "├─────────────────────────────────┼────────────────────────┼───────────────┤\n",
              "│ block-1-Conv (\u001b[38;5;33mConvLayer\u001b[0m)        │ (\u001b[38;5;45mNone\u001b[0m, \u001b[38;5;34m192\u001b[0m, \u001b[38;5;34m192\u001b[0m, \u001b[38;5;34m64\u001b[0m)   │         \u001b[38;5;34m1,984\u001b[0m │\n",
              "├─────────────────────────────────┼────────────────────────┼───────────────┤\n",
              "│ block-1-IR2                     │ (\u001b[38;5;45mNone\u001b[0m, \u001b[38;5;34m192\u001b[0m, \u001b[38;5;34m192\u001b[0m, \u001b[38;5;34m128\u001b[0m)  │        \u001b[38;5;34m27,264\u001b[0m │\n",
              "│ (\u001b[38;5;33mInvertedResidualBlock\u001b[0m)         │                        │               │\n",
              "├─────────────────────────────────┼────────────────────────┼───────────────┤\n",
              "│ block-2-IR1                     │ (\u001b[38;5;45mNone\u001b[0m, \u001b[38;5;34m96\u001b[0m, \u001b[38;5;34m96\u001b[0m, \u001b[38;5;34m256\u001b[0m)    │       \u001b[38;5;34m103,680\u001b[0m │\n",
              "│ (\u001b[38;5;33mInvertedResidualBlock\u001b[0m)         │                        │               │\n",
              "├─────────────────────────────────┼────────────────────────┼───────────────┤\n",
              "│ block-2-IR2                     │ (\u001b[38;5;45mNone\u001b[0m, \u001b[38;5;34m96\u001b[0m, \u001b[38;5;34m96\u001b[0m, \u001b[38;5;34m256\u001b[0m)    │       \u001b[38;5;34m271,872\u001b[0m │\n",
              "│ (\u001b[38;5;33mInvertedResidualBlock\u001b[0m)         │                        │               │\n",
              "├─────────────────────────────────┼────────────────────────┼───────────────┤\n",
              "│ block-3-IR1                     │ (\u001b[38;5;45mNone\u001b[0m, \u001b[38;5;34m48\u001b[0m, \u001b[38;5;34m48\u001b[0m, \u001b[38;5;34m512\u001b[0m)    │       \u001b[38;5;34m403,968\u001b[0m │\n",
              "│ (\u001b[38;5;33mInvertedResidualBlock\u001b[0m)         │                        │               │\n",
              "├─────────────────────────────────┼────────────────────────┼───────────────┤\n",
              "│ MobileViTBlock-1                │ (\u001b[38;5;45mNone\u001b[0m, \u001b[38;5;34m48\u001b[0m, \u001b[38;5;34m48\u001b[0m, \u001b[38;5;34m512\u001b[0m)    │     \u001b[38;5;34m1,194,498\u001b[0m │\n",
              "│ (\u001b[38;5;33mMobileViT_v2_Block\u001b[0m)            │                        │               │\n",
              "├─────────────────────────────────┼────────────────────────┼───────────────┤\n",
              "│ block-4-IR1                     │ (\u001b[38;5;45mNone\u001b[0m, \u001b[38;5;34m24\u001b[0m, \u001b[38;5;34m24\u001b[0m, \u001b[38;5;34m768\u001b[0m)    │     \u001b[38;5;34m1,331,200\u001b[0m │\n",
              "│ (\u001b[38;5;33mInvertedResidualBlock\u001b[0m)         │                        │               │\n",
              "├─────────────────────────────────┼────────────────────────┼───────────────┤\n",
              "│ MobileViTBlock-2                │ (\u001b[38;5;45mNone\u001b[0m, \u001b[38;5;34m24\u001b[0m, \u001b[38;5;34m24\u001b[0m, \u001b[38;5;34m768\u001b[0m)    │     \u001b[38;5;34m4,749,316\u001b[0m │\n",
              "│ (\u001b[38;5;33mMobileViT_v2_Block\u001b[0m)            │                        │               │\n",
              "├─────────────────────────────────┼────────────────────────┼───────────────┤\n",
              "│ block-5-IR1                     │ (\u001b[38;5;45mNone\u001b[0m, \u001b[38;5;34m12\u001b[0m, \u001b[38;5;34m12\u001b[0m, \u001b[38;5;34m1024\u001b[0m)   │     \u001b[38;5;34m2,782,720\u001b[0m │\n",
              "│ (\u001b[38;5;33mInvertedResidualBlock\u001b[0m)         │                        │               │\n",
              "├─────────────────────────────────┼────────────────────────┼───────────────┤\n",
              "│ MobileViTBlock-3                │ (\u001b[38;5;45mNone\u001b[0m, \u001b[38;5;34m12\u001b[0m, \u001b[38;5;34m12\u001b[0m, \u001b[38;5;34m1024\u001b[0m)   │     \u001b[38;5;34m6,588,931\u001b[0m │\n",
              "│ (\u001b[38;5;33mMobileViT_v2_Block\u001b[0m)            │                        │               │\n",
              "├─────────────────────────────────┼────────────────────────┼───────────────┤\n",
              "│ global_average_pooling2d_3      │ (\u001b[38;5;45mNone\u001b[0m, \u001b[38;5;34m1024\u001b[0m)           │             \u001b[38;5;34m0\u001b[0m │\n",
              "│ (\u001b[38;5;33mGlobalAveragePooling2D\u001b[0m)        │                        │               │\n",
              "├─────────────────────────────────┼────────────────────────┼───────────────┤\n",
              "│ dense_3 (\u001b[38;5;33mDense\u001b[0m)                 │ (\u001b[38;5;45mNone\u001b[0m, \u001b[38;5;34m1000\u001b[0m)           │     \u001b[38;5;34m1,025,000\u001b[0m │\n",
              "└─────────────────────────────────┴────────────────────────┴───────────────┘\n"
            ]
          },
          "metadata": {},
          "output_type": "display_data"
        },
        {
          "data": {
            "text/html": [
              "<pre style=\"white-space:pre;overflow-x:auto;line-height:normal;font-family:Menlo,'DejaVu Sans Mono',consolas,'Courier New',monospace\"><span style=\"font-weight: bold\"> Total params: </span><span style=\"color: #00af00; text-decoration-color: #00af00\">18,480,433</span> (70.50 MB)\n",
              "</pre>\n"
            ],
            "text/plain": [
              "\u001b[1m Total params: \u001b[0m\u001b[38;5;34m18,480,433\u001b[0m (70.50 MB)\n"
            ]
          },
          "metadata": {},
          "output_type": "display_data"
        },
        {
          "data": {
            "text/html": [
              "<pre style=\"white-space:pre;overflow-x:auto;line-height:normal;font-family:Menlo,'DejaVu Sans Mono',consolas,'Courier New',monospace\"><span style=\"font-weight: bold\"> Trainable params: </span><span style=\"color: #00af00; text-decoration-color: #00af00\">18,449,329</span> (70.38 MB)\n",
              "</pre>\n"
            ],
            "text/plain": [
              "\u001b[1m Trainable params: \u001b[0m\u001b[38;5;34m18,449,329\u001b[0m (70.38 MB)\n"
            ]
          },
          "metadata": {},
          "output_type": "display_data"
        },
        {
          "data": {
            "text/html": [
              "<pre style=\"white-space:pre;overflow-x:auto;line-height:normal;font-family:Menlo,'DejaVu Sans Mono',consolas,'Courier New',monospace\"><span style=\"font-weight: bold\"> Non-trainable params: </span><span style=\"color: #00af00; text-decoration-color: #00af00\">31,104</span> (121.50 KB)\n",
              "</pre>\n"
            ],
            "text/plain": [
              "\u001b[1m Non-trainable params: \u001b[0m\u001b[38;5;34m31,104\u001b[0m (121.50 KB)\n"
            ]
          },
          "metadata": {},
          "output_type": "display_data"
        }
      ],
      "source": [
        "keras_model_0 = build_MobileViT_v2(\n",
        "    width_multiplier=2.0,\n",
        "    input_shape=(256, 256, 3),\n",
        "    pretrained=True,\n",
        "    pretrained_weight_name=\"keras_mobilevitv2-im1k-256-2.0.weights.h5\",\n",
        ")\n",
        "\n",
        "keras_model_1 = build_MobileViT_v2(\n",
        "    width_multiplier=2.0,\n",
        "    input_shape=(384, 384, 3),\n",
        "    pretrained=True,\n",
        "    pretrained_weight_name=\"keras_mobilevitv2-im1k-256-f-384-2.0.weights.h5\",\n",
        ")\n",
        "\n",
        "keras_model_2 = build_MobileViT_v2(\n",
        "    width_multiplier=2.0,\n",
        "    input_shape=(256, 256, 3),\n",
        "    pretrained=True,\n",
        "    pretrained_weight_name=\"keras_mobilevitv2-im21k-256-f-im1k-256-2.0.weights.h5\",\n",
        ")\n",
        "\n",
        "keras_model_3 = build_MobileViT_v2(\n",
        "    width_multiplier=2.0,\n",
        "    input_shape=(384, 384, 3),\n",
        "    pretrained=True,\n",
        "    pretrained_weight_name=\"keras_mobilevitv2-im21k-256-f-im1k-256-f-im1k-384-2.0.weights.h5\",\n",
        ")\n",
        "\n",
        "keras_model_3.summary()"
      ]
    },
    {
      "cell_type": "markdown",
      "metadata": {},
      "source": [
        "1. `model_type`: Available variants:\n",
        "    - keras_mobilevitv2-im1k-256-0.5.weights.h5\n",
        "    - keras_mobilevitv2-im1k-256-0.75.weights.h5\n",
        "    - keras_mobilevitv2-im1k-256-1.0.weights.h5\n",
        "    - keras_mobilevitv2-im1k-256-1.25.weights.h5\n",
        "    - keras_mobilevitv2-im1k-256-1.5.weights.h5\n",
        "    - keras_mobilevitv2-im1k-256-1.75.weights.h5\n",
        "    - keras_mobilevitv2-im1k-256-2.0.weights.h5\n",
        "    - keras_mobilevitv2-im1k-256-f-384-0.5.weights.h5\n",
        "    - keras_mobilevitv2-im1k-256-f-384-0.75.weights.h5\n",
        "    - keras_mobilevitv2-im1k-256-f-384-1.0.weights.h5\n",
        "    - keras_mobilevitv2-im1k-256-f-384-1.25.weights.h5\n",
        "    - keras_mobilevitv2-im1k-256-f-384-1.5.weights.h5\n",
        "    - keras_mobilevitv2-im1k-256-f-384-1.75.weights.h5\n",
        "    - keras_mobilevitv2-im1k-256-f-384-2.0.weights.h5\n",
        "    - keras_mobilevitv2-im21k-256-f-im1k-256-1.5.weights.h5\n",
        "    - keras_mobilevitv2-im21k-256-f-im1k-256-1.75.weights.h5\n",
        "    - keras_mobilevitv2-im21k-256-f-im1k-256-2.0.weights.h5\n",
        "    - keras_mobilevitv2-im21k-256-f-im1k-256-f-im1k-384-1.5.weights.h5\n",
        "    - keras_mobilevitv2-im21k-256-f-im1k-256-f-im1k-384-1.75.weights.h5\n",
        "    - keras_mobilevitv2-im21k-256-f-im1k-256-f-im1k-384-2.0.weights.h5\n",
        "   \n",
        "2. `input_shape` can be `(None, None, 3)`\n",
        "\n",
        "3. `pretrained` can be `True` or `False`\n",
        "   \n",
        "4. `include_top` can be `True` or `False`\n",
        "   \n",
        "5. `num_classes` can be an `int` or `None`"
      ]
    },
    {
      "cell_type": "code",
      "execution_count": 5,
      "metadata": {
        "id": "_JCkx9P3Z8we"
      },
      "outputs": [],
      "source": [
        "!wget -qnc https://upload.wikimedia.org/wikipedia/commons/thumb/6/68/Orange_tabby_cat_sitting_on_fallen_leaves-Hisashi-01A.jpg/1024px-Orange_tabby_cat_sitting_on_fallen_leaves-Hisashi-01A.jpg -O cat.jpg\n",
        "!wget -qnc https://upload.wikimedia.org/wikipedia/commons/thumb/0/0f/Grosser_Panda.JPG/1920px-Grosser_Panda.JPG -O pandas.jpg\n",
        "!wget -qnc https://static01.nyt.com/images/2020/10/20/science/30TB-PENGUINS04/30TB-PENGUINS04-mediumSquareAt3X.jp -O penguin.jpg\n",
        "!wget -qnc http://images.cocodataset.org/val2017/000000039769.jpg -O cat_2.jpg"
      ]
    },
    {
      "cell_type": "code",
      "execution_count": 5,
      "metadata": {},
      "outputs": [
        {
          "name": "stdout",
          "output_type": "stream",
          "text": [
            "Model: MobileViT-v2-2.0, Predictions: 282\n",
            "Model: MobileViT-v2-2.0, Predictions: 281\n",
            "Model: MobileViT-v2-2.0, Predictions: 388\n",
            "Model: MobileViT-v2-2.0, Predictions: 145\n",
            "--------------\n",
            "Model: MobileViT-v2-2.0, Predictions: 282\n",
            "Model: MobileViT-v2-2.0, Predictions: 281\n",
            "Model: MobileViT-v2-2.0, Predictions: 388\n",
            "Model: MobileViT-v2-2.0, Predictions: 145\n",
            "--------------\n",
            "Model: MobileViT-v2-2.0, Predictions: 282\n",
            "Model: MobileViT-v2-2.0, Predictions: 281\n",
            "Model: MobileViT-v2-2.0, Predictions: 388\n",
            "Model: MobileViT-v2-2.0, Predictions: 145\n",
            "--------------\n",
            "Model: MobileViT-v2-2.0, Predictions: 282\n",
            "Model: MobileViT-v2-2.0, Predictions: 281\n",
            "Model: MobileViT-v2-2.0, Predictions: 388\n",
            "Model: MobileViT-v2-2.0, Predictions: 145\n",
            "--------------\n"
          ]
        }
      ],
      "source": [
        "show = False\n",
        "for keras_model, img_shape in (\n",
        "    (keras_model_0, (256, 256)),\n",
        "    (keras_model_1, (384, 384)),\n",
        "    (keras_model_2, (256, 256)),\n",
        "    (keras_model_3, (384, 384)),\n",
        "):\n",
        "    test_prediction(image_path=r\"cat.JPG\", model=keras_model, image_shape=img_shape, show=show)\n",
        "    test_prediction(image_path=r\"cat_2.JPG\", model=keras_model, image_shape=img_shape, show=show)\n",
        "    test_prediction(image_path=r\"pandas.JPG\", model=keras_model, image_shape=img_shape, show=show)\n",
        "    test_prediction(image_path=r\"penguin.JPG\", model=keras_model, image_shape=img_shape, show=show)\n",
        "    print(\"--------------\")"
      ]
    },
    {
      "cell_type": "markdown",
      "metadata": {
        "id": "5OwMkIShbyF2"
      },
      "source": [
        "[IMAGENET 1000 Class List](https://deeplearning.cms.waikato.ac.nz/user-guide/class-maps/IMAGENET/)"
      ]
    },
    {
      "cell_type": "code",
      "execution_count": 8,
      "metadata": {
        "colab": {
          "base_uri": "https://localhost:8080/",
          "height": 602
        },
        "id": "bZ14XGLTbuRW",
        "outputId": "737b5dba-49c1-4db8-f5db-52a0ed320df1"
      },
      "outputs": [
        {
          "data": {
            "text/html": [
              "<pre style=\"white-space:pre;overflow-x:auto;line-height:normal;font-family:Menlo,'DejaVu Sans Mono',consolas,'Courier New',monospace\"><span style=\"font-weight: bold\">Model: \"MobileViT-v2-0.5\"</span>\n",
              "</pre>\n"
            ],
            "text/plain": [
              "\u001b[1mModel: \"MobileViT-v2-0.5\"\u001b[0m\n"
            ]
          },
          "metadata": {},
          "output_type": "display_data"
        },
        {
          "data": {
            "text/html": [
              "<pre style=\"white-space:pre;overflow-x:auto;line-height:normal;font-family:Menlo,'DejaVu Sans Mono',consolas,'Courier New',monospace\">┏━━━━━━━━━━━━━━━━━━━━━━━━━━━━━━━━━┳━━━━━━━━━━━━━━━━━━━━━━━━┳━━━━━━━━━━━━━━━┓\n",
              "┃<span style=\"font-weight: bold\"> Layer (type)                    </span>┃<span style=\"font-weight: bold\"> Output Shape           </span>┃<span style=\"font-weight: bold\">       Param # </span>┃\n",
              "┡━━━━━━━━━━━━━━━━━━━━━━━━━━━━━━━━━╇━━━━━━━━━━━━━━━━━━━━━━━━╇━━━━━━━━━━━━━━━┩\n",
              "│ input_layer_6 (<span style=\"color: #0087ff; text-decoration-color: #0087ff\">InputLayer</span>)      │ (<span style=\"color: #00d7ff; text-decoration-color: #00d7ff\">None</span>, <span style=\"color: #00af00; text-decoration-color: #00af00\">256</span>, <span style=\"color: #00af00; text-decoration-color: #00af00\">256</span>, <span style=\"color: #00af00; text-decoration-color: #00af00\">3</span>)    │             <span style=\"color: #00af00; text-decoration-color: #00af00\">0</span> │\n",
              "├─────────────────────────────────┼────────────────────────┼───────────────┤\n",
              "│ block-1-Conv (<span style=\"color: #0087ff; text-decoration-color: #0087ff\">ConvLayer</span>)        │ (<span style=\"color: #00d7ff; text-decoration-color: #00d7ff\">None</span>, <span style=\"color: #00af00; text-decoration-color: #00af00\">128</span>, <span style=\"color: #00af00; text-decoration-color: #00af00\">128</span>, <span style=\"color: #00af00; text-decoration-color: #00af00\">16</span>)   │           <span style=\"color: #00af00; text-decoration-color: #00af00\">496</span> │\n",
              "├─────────────────────────────────┼────────────────────────┼───────────────┤\n",
              "│ block-1-IR2                     │ (<span style=\"color: #00d7ff; text-decoration-color: #00d7ff\">None</span>, <span style=\"color: #00af00; text-decoration-color: #00af00\">128</span>, <span style=\"color: #00af00; text-decoration-color: #00af00\">128</span>, <span style=\"color: #00af00; text-decoration-color: #00af00\">32</span>)   │         <span style=\"color: #00af00; text-decoration-color: #00af00\">2,208</span> │\n",
              "│ (<span style=\"color: #0087ff; text-decoration-color: #0087ff\">InvertedResidualBlock</span>)         │                        │               │\n",
              "├─────────────────────────────────┼────────────────────────┼───────────────┤\n",
              "│ block-2-IR1                     │ (<span style=\"color: #00d7ff; text-decoration-color: #00d7ff\">None</span>, <span style=\"color: #00af00; text-decoration-color: #00af00\">64</span>, <span style=\"color: #00af00; text-decoration-color: #00af00\">64</span>, <span style=\"color: #00af00; text-decoration-color: #00af00\">64</span>)     │         <span style=\"color: #00af00; text-decoration-color: #00af00\">7,488</span> │\n",
              "│ (<span style=\"color: #0087ff; text-decoration-color: #0087ff\">InvertedResidualBlock</span>)         │                        │               │\n",
              "├─────────────────────────────────┼────────────────────────┼───────────────┤\n",
              "│ block-2-IR2                     │ (<span style=\"color: #00d7ff; text-decoration-color: #00d7ff\">None</span>, <span style=\"color: #00af00; text-decoration-color: #00af00\">64</span>, <span style=\"color: #00af00; text-decoration-color: #00af00\">64</span>, <span style=\"color: #00af00; text-decoration-color: #00af00\">64</span>)     │        <span style=\"color: #00af00; text-decoration-color: #00af00\">18,816</span> │\n",
              "│ (<span style=\"color: #0087ff; text-decoration-color: #0087ff\">InvertedResidualBlock</span>)         │                        │               │\n",
              "├─────────────────────────────────┼────────────────────────┼───────────────┤\n",
              "│ block-3-IR1                     │ (<span style=\"color: #00d7ff; text-decoration-color: #00d7ff\">None</span>, <span style=\"color: #00af00; text-decoration-color: #00af00\">32</span>, <span style=\"color: #00af00; text-decoration-color: #00af00\">32</span>, <span style=\"color: #00af00; text-decoration-color: #00af00\">128</span>)    │        <span style=\"color: #00af00; text-decoration-color: #00af00\">27,264</span> │\n",
              "│ (<span style=\"color: #0087ff; text-decoration-color: #0087ff\">InvertedResidualBlock</span>)         │                        │               │\n",
              "├─────────────────────────────────┼────────────────────────┼───────────────┤\n",
              "│ MobileViTBlock-1                │ (<span style=\"color: #00d7ff; text-decoration-color: #00d7ff\">None</span>, <span style=\"color: #00af00; text-decoration-color: #00af00\">32</span>, <span style=\"color: #00af00; text-decoration-color: #00af00\">32</span>, <span style=\"color: #00af00; text-decoration-color: #00af00\">128</span>)    │        <span style=\"color: #00af00; text-decoration-color: #00af00\">77,442</span> │\n",
              "│ (<span style=\"color: #0087ff; text-decoration-color: #0087ff\">MobileViT_v2_Block</span>)            │                        │               │\n",
              "├─────────────────────────────────┼────────────────────────┼───────────────┤\n",
              "│ block-4-IR1                     │ (<span style=\"color: #00d7ff; text-decoration-color: #00d7ff\">None</span>, <span style=\"color: #00af00; text-decoration-color: #00af00\">16</span>, <span style=\"color: #00af00; text-decoration-color: #00af00\">16</span>, <span style=\"color: #00af00; text-decoration-color: #00af00\">192</span>)    │        <span style=\"color: #00af00; text-decoration-color: #00af00\">87,040</span> │\n",
              "│ (<span style=\"color: #0087ff; text-decoration-color: #0087ff\">InvertedResidualBlock</span>)         │                        │               │\n",
              "├─────────────────────────────────┼────────────────────────┼───────────────┤\n",
              "│ MobileViTBlock-2                │ (<span style=\"color: #00d7ff; text-decoration-color: #00d7ff\">None</span>, <span style=\"color: #00af00; text-decoration-color: #00af00\">16</span>, <span style=\"color: #00af00; text-decoration-color: #00af00\">16</span>, <span style=\"color: #00af00; text-decoration-color: #00af00\">192</span>)    │       <span style=\"color: #00af00; text-decoration-color: #00af00\">302,596</span> │\n",
              "│ (<span style=\"color: #0087ff; text-decoration-color: #0087ff\">MobileViT_v2_Block</span>)            │                        │               │\n",
              "├─────────────────────────────────┼────────────────────────┼───────────────┤\n",
              "│ block-5-IR1                     │ (<span style=\"color: #00d7ff; text-decoration-color: #00d7ff\">None</span>, <span style=\"color: #00af00; text-decoration-color: #00af00\">8</span>, <span style=\"color: #00af00; text-decoration-color: #00af00\">8</span>, <span style=\"color: #00af00; text-decoration-color: #00af00\">256</span>)      │       <span style=\"color: #00af00; text-decoration-color: #00af00\">179,584</span> │\n",
              "│ (<span style=\"color: #0087ff; text-decoration-color: #0087ff\">InvertedResidualBlock</span>)         │                        │               │\n",
              "├─────────────────────────────────┼────────────────────────┼───────────────┤\n",
              "│ MobileViTBlock-3                │ (<span style=\"color: #00d7ff; text-decoration-color: #00d7ff\">None</span>, <span style=\"color: #00af00; text-decoration-color: #00af00\">8</span>, <span style=\"color: #00af00; text-decoration-color: #00af00\">8</span>, <span style=\"color: #00af00; text-decoration-color: #00af00\">256</span>)      │       <span style=\"color: #00af00; text-decoration-color: #00af00\">418,435</span> │\n",
              "│ (<span style=\"color: #0087ff; text-decoration-color: #0087ff\">MobileViT_v2_Block</span>)            │                        │               │\n",
              "└─────────────────────────────────┴────────────────────────┴───────────────┘\n",
              "</pre>\n"
            ],
            "text/plain": [
              "┏━━━━━━━━━━━━━━━━━━━━━━━━━━━━━━━━━┳━━━━━━━━━━━━━━━━━━━━━━━━┳━━━━━━━━━━━━━━━┓\n",
              "┃\u001b[1m \u001b[0m\u001b[1mLayer (type)                   \u001b[0m\u001b[1m \u001b[0m┃\u001b[1m \u001b[0m\u001b[1mOutput Shape          \u001b[0m\u001b[1m \u001b[0m┃\u001b[1m \u001b[0m\u001b[1m      Param #\u001b[0m\u001b[1m \u001b[0m┃\n",
              "┡━━━━━━━━━━━━━━━━━━━━━━━━━━━━━━━━━╇━━━━━━━━━━━━━━━━━━━━━━━━╇━━━━━━━━━━━━━━━┩\n",
              "│ input_layer_6 (\u001b[38;5;33mInputLayer\u001b[0m)      │ (\u001b[38;5;45mNone\u001b[0m, \u001b[38;5;34m256\u001b[0m, \u001b[38;5;34m256\u001b[0m, \u001b[38;5;34m3\u001b[0m)    │             \u001b[38;5;34m0\u001b[0m │\n",
              "├─────────────────────────────────┼────────────────────────┼───────────────┤\n",
              "│ block-1-Conv (\u001b[38;5;33mConvLayer\u001b[0m)        │ (\u001b[38;5;45mNone\u001b[0m, \u001b[38;5;34m128\u001b[0m, \u001b[38;5;34m128\u001b[0m, \u001b[38;5;34m16\u001b[0m)   │           \u001b[38;5;34m496\u001b[0m │\n",
              "├─────────────────────────────────┼────────────────────────┼───────────────┤\n",
              "│ block-1-IR2                     │ (\u001b[38;5;45mNone\u001b[0m, \u001b[38;5;34m128\u001b[0m, \u001b[38;5;34m128\u001b[0m, \u001b[38;5;34m32\u001b[0m)   │         \u001b[38;5;34m2,208\u001b[0m │\n",
              "│ (\u001b[38;5;33mInvertedResidualBlock\u001b[0m)         │                        │               │\n",
              "├─────────────────────────────────┼────────────────────────┼───────────────┤\n",
              "│ block-2-IR1                     │ (\u001b[38;5;45mNone\u001b[0m, \u001b[38;5;34m64\u001b[0m, \u001b[38;5;34m64\u001b[0m, \u001b[38;5;34m64\u001b[0m)     │         \u001b[38;5;34m7,488\u001b[0m │\n",
              "│ (\u001b[38;5;33mInvertedResidualBlock\u001b[0m)         │                        │               │\n",
              "├─────────────────────────────────┼────────────────────────┼───────────────┤\n",
              "│ block-2-IR2                     │ (\u001b[38;5;45mNone\u001b[0m, \u001b[38;5;34m64\u001b[0m, \u001b[38;5;34m64\u001b[0m, \u001b[38;5;34m64\u001b[0m)     │        \u001b[38;5;34m18,816\u001b[0m │\n",
              "│ (\u001b[38;5;33mInvertedResidualBlock\u001b[0m)         │                        │               │\n",
              "├─────────────────────────────────┼────────────────────────┼───────────────┤\n",
              "│ block-3-IR1                     │ (\u001b[38;5;45mNone\u001b[0m, \u001b[38;5;34m32\u001b[0m, \u001b[38;5;34m32\u001b[0m, \u001b[38;5;34m128\u001b[0m)    │        \u001b[38;5;34m27,264\u001b[0m │\n",
              "│ (\u001b[38;5;33mInvertedResidualBlock\u001b[0m)         │                        │               │\n",
              "├─────────────────────────────────┼────────────────────────┼───────────────┤\n",
              "│ MobileViTBlock-1                │ (\u001b[38;5;45mNone\u001b[0m, \u001b[38;5;34m32\u001b[0m, \u001b[38;5;34m32\u001b[0m, \u001b[38;5;34m128\u001b[0m)    │        \u001b[38;5;34m77,442\u001b[0m │\n",
              "│ (\u001b[38;5;33mMobileViT_v2_Block\u001b[0m)            │                        │               │\n",
              "├─────────────────────────────────┼────────────────────────┼───────────────┤\n",
              "│ block-4-IR1                     │ (\u001b[38;5;45mNone\u001b[0m, \u001b[38;5;34m16\u001b[0m, \u001b[38;5;34m16\u001b[0m, \u001b[38;5;34m192\u001b[0m)    │        \u001b[38;5;34m87,040\u001b[0m │\n",
              "│ (\u001b[38;5;33mInvertedResidualBlock\u001b[0m)         │                        │               │\n",
              "├─────────────────────────────────┼────────────────────────┼───────────────┤\n",
              "│ MobileViTBlock-2                │ (\u001b[38;5;45mNone\u001b[0m, \u001b[38;5;34m16\u001b[0m, \u001b[38;5;34m16\u001b[0m, \u001b[38;5;34m192\u001b[0m)    │       \u001b[38;5;34m302,596\u001b[0m │\n",
              "│ (\u001b[38;5;33mMobileViT_v2_Block\u001b[0m)            │                        │               │\n",
              "├─────────────────────────────────┼────────────────────────┼───────────────┤\n",
              "│ block-5-IR1                     │ (\u001b[38;5;45mNone\u001b[0m, \u001b[38;5;34m8\u001b[0m, \u001b[38;5;34m8\u001b[0m, \u001b[38;5;34m256\u001b[0m)      │       \u001b[38;5;34m179,584\u001b[0m │\n",
              "│ (\u001b[38;5;33mInvertedResidualBlock\u001b[0m)         │                        │               │\n",
              "├─────────────────────────────────┼────────────────────────┼───────────────┤\n",
              "│ MobileViTBlock-3                │ (\u001b[38;5;45mNone\u001b[0m, \u001b[38;5;34m8\u001b[0m, \u001b[38;5;34m8\u001b[0m, \u001b[38;5;34m256\u001b[0m)      │       \u001b[38;5;34m418,435\u001b[0m │\n",
              "│ (\u001b[38;5;33mMobileViT_v2_Block\u001b[0m)            │                        │               │\n",
              "└─────────────────────────────────┴────────────────────────┴───────────────┘\n"
            ]
          },
          "metadata": {},
          "output_type": "display_data"
        },
        {
          "data": {
            "text/html": [
              "<pre style=\"white-space:pre;overflow-x:auto;line-height:normal;font-family:Menlo,'DejaVu Sans Mono',consolas,'Courier New',monospace\"><span style=\"font-weight: bold\"> Total params: </span><span style=\"color: #00af00; text-decoration-color: #00af00\">1,121,369</span> (4.28 MB)\n",
              "</pre>\n"
            ],
            "text/plain": [
              "\u001b[1m Total params: \u001b[0m\u001b[38;5;34m1,121,369\u001b[0m (4.28 MB)\n"
            ]
          },
          "metadata": {},
          "output_type": "display_data"
        },
        {
          "data": {
            "text/html": [
              "<pre style=\"white-space:pre;overflow-x:auto;line-height:normal;font-family:Menlo,'DejaVu Sans Mono',consolas,'Courier New',monospace\"><span style=\"font-weight: bold\"> Trainable params: </span><span style=\"color: #00af00; text-decoration-color: #00af00\">1,113,593</span> (4.25 MB)\n",
              "</pre>\n"
            ],
            "text/plain": [
              "\u001b[1m Trainable params: \u001b[0m\u001b[38;5;34m1,113,593\u001b[0m (4.25 MB)\n"
            ]
          },
          "metadata": {},
          "output_type": "display_data"
        },
        {
          "data": {
            "text/html": [
              "<pre style=\"white-space:pre;overflow-x:auto;line-height:normal;font-family:Menlo,'DejaVu Sans Mono',consolas,'Courier New',monospace\"><span style=\"font-weight: bold\"> Non-trainable params: </span><span style=\"color: #00af00; text-decoration-color: #00af00\">7,776</span> (30.38 KB)\n",
              "</pre>\n"
            ],
            "text/plain": [
              "\u001b[1m Non-trainable params: \u001b[0m\u001b[38;5;34m7,776\u001b[0m (30.38 KB)\n"
            ]
          },
          "metadata": {},
          "output_type": "display_data"
        }
      ],
      "source": [
        "model_0_5_feature_extractor = build_MobileViT_v2(\n",
        "    width_multiplier=0.5,\n",
        "    input_shape=(256, 256, 3),\n",
        "    pretrained=True,\n",
        "    pretrained_weight_name=\"keras_mobilevitv2-im1k-256-0.5.weights.h5\",\n",
        "    include_top=False\n",
        ")\n",
        "\n",
        "model_0_5_feature_extractor.summary()"
      ]
    },
    {
      "cell_type": "code",
      "execution_count": null,
      "metadata": {
        "id": "bZFMeQ4ScL7w"
      },
      "outputs": [],
      "source": []
    }
  ],
  "metadata": {
    "colab": {
      "provenance": []
    },
    "kernelspec": {
      "display_name": "keras_univ",
      "language": "python",
      "name": "python3"
    },
    "language_info": {
      "codemirror_mode": {
        "name": "ipython",
        "version": 3
      },
      "file_extension": ".py",
      "mimetype": "text/x-python",
      "name": "python",
      "nbconvert_exporter": "python",
      "pygments_lexer": "ipython3",
      "version": "3.11.8"
    }
  },
  "nbformat": 4,
  "nbformat_minor": 0
}
